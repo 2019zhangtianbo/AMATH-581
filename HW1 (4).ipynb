{
 "cells": [
  {
   "cell_type": "code",
   "execution_count": 116,
   "id": "b7e63ee1-5c06-417e-8ed5-de754033e2bb",
   "metadata": {},
   "outputs": [],
   "source": [
    "'''\n",
    "AMATH 581 Homework 1\n",
    "Tianbo Zhang 1938501\n",
    "'''\n",
    "import numpy as np"
   ]
  },
  {
   "cell_type": "code",
   "execution_count": 117,
   "id": "ea909a01-a9c8-4ed1-857a-bf137cf10fac",
   "metadata": {},
   "outputs": [],
   "source": [
    "# Problem 1\n",
    "def f(x):\n",
    "    return x * np.sin(3 * x) - np.exp(x)\n",
    "\n",
    "def df(x):\n",
    "    return np.sin(3 * x) + 3 * x * np.cos(3 * x) - np.exp(x)"
   ]
  },
  {
   "cell_type": "code",
   "execution_count": 118,
   "id": "ae427fd7-9f47-4c4d-ac44-f86f326c8631",
   "metadata": {},
   "outputs": [],
   "source": [
    "# Newton's Method\n",
    "x = np.array([-1.6])\n",
    "for i in range (1000):\n",
    "    x = np.append(x, x[i] - f(x[i])/df(x[i]))\n",
    "    fc = f(x[i])\n",
    "    if abs(fc) < 1e-6:\n",
    "        iteration_newton = i + 1\n",
    "        break\n",
    "A1 = x"
   ]
  },
  {
   "cell_type": "code",
   "execution_count": 119,
   "id": "65d5cb71-6ec4-4947-8d4f-5b91fbcfce98",
   "metadata": {},
   "outputs": [],
   "source": [
    "# Bisection Method\n",
    "xr = -0.4\n",
    "xl = -0.7\n",
    "xc = np.array([])\n",
    "for j in range(0, 100):\n",
    "    xc = np.append(xc, (xr + xl) / 2)\n",
    "    fc = f(xc[j])\n",
    "    if fc > 0:\n",
    "        xl = xc[j]\n",
    "    else:\n",
    "        xr = xc[j]\n",
    "    if abs(fc) < 1e-6:\n",
    "        iteration_bisection = j + 1\n",
    "        break\n",
    "A2 = xc\n",
    "A3 = np.array([iteration_newton, iteration_bisection])"
   ]
  },
  {
   "cell_type": "code",
   "execution_count": 89,
   "id": "fcbd92ba-f3e5-43fe-9d9f-3ddcd6f2fbf7",
   "metadata": {},
   "outputs": [],
   "source": [
    "# Problem 2\n",
    "A = np.array([[1, 2],\n",
    "              [-1, 1]])\n",
    "B = np.array([[2, 0],\n",
    "              [0, 2]])\n",
    "C = np.array([[2, 0, -3],\n",
    "              [0, 0, -1]])\n",
    "D = np.array([[1, 2],\n",
    "              [2, 3],\n",
    "              [-1, 0]])\n",
    "x = np.array([1, 0])\n",
    "y = np.array([0, 1])\n",
    "z = np.array([1, 2, -1])"
   ]
  },
  {
   "cell_type": "code",
   "execution_count": 90,
   "id": "02fbf3d7-d739-4b10-a3c8-55dd92423748",
   "metadata": {},
   "outputs": [],
   "source": [
    "A4 = A + B\n",
    "A5 = 3 * x - 4 * y\n",
    "A6 = np.dot(A, x)\n",
    "A7 = np.dot(B, (x - y))\n",
    "A8 = np.dot(D, x)\n",
    "A9 = np.dot(D, y) + z\n",
    "A10 = np.dot(A, B)\n",
    "A11 = np.dot(B, C)\n",
    "A12 = np.dot(C, D)"
   ]
  },
  {
   "cell_type": "code",
   "execution_count": null,
   "id": "b87ba934-4f3a-4e94-9780-c6723f9b0629",
   "metadata": {},
   "outputs": [],
   "source": []
  }
 ],
 "metadata": {
  "kernelspec": {
   "display_name": "Python 3 (ipykernel)",
   "language": "python",
   "name": "python3"
  },
  "language_info": {
   "codemirror_mode": {
    "name": "ipython",
    "version": 3
   },
   "file_extension": ".py",
   "mimetype": "text/x-python",
   "name": "python",
   "nbconvert_exporter": "python",
   "pygments_lexer": "ipython3",
   "version": "3.9.13"
  }
 },
 "nbformat": 4,
 "nbformat_minor": 5
}
