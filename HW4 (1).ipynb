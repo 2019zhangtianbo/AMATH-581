{
 "cells": [
  {
   "cell_type": "code",
   "execution_count": 1,
   "id": "0d0e39ac-4175-44ee-8c85-9a14cca6d79c",
   "metadata": {},
   "outputs": [],
   "source": [
    "'''\n",
    "This is Homework 4 for AMATH 581\n",
    "Tianbo Zhang 1938501\n",
    "'''\n",
    "import numpy as np\n",
    "from scipy.sparse import spdiags\n",
    "\n",
    "# Parameters\n",
    "m = 8  # Grid size per dimension\n",
    "n = m * m  # Total number of grid points\n",
    "L = 10  # Domain size\n",
    "dx = (2 * L) / m  # Grid spacing\n",
    "\n",
    "# Base vectors for diagonals\n",
    "ones = np.ones(n)\n",
    "zeros = np.zeros(n)\n",
    "\n",
    "# Periodic wrap diagonals: farthest connections\n",
    "periodic_shift_m1 = np.zeros(n)\n",
    "periodic_shift_p1 = np.ones(n)\n",
    "periodic_shift_m1[m-1::m] = 1\n",
    "periodic_shift_p1[m-1::m] = 0\n",
    "periodic_shift_m1_re = np.concatenate((periodic_shift_m1[-1:], periodic_shift_m1[:-1]))\n",
    "periodic_shift_p1_re = np.concatenate((periodic_shift_p1[-1:], periodic_shift_p1[:-1]))\n",
    "\n",
    "\n",
    "# Construct derivative matrix A1 (Laplacian)\n",
    "diagonals_a = [-4 * ones, periodic_shift_p1, periodic_shift_p1_re, \n",
    "               periodic_shift_m1_re, periodic_shift_m1, \n",
    "               ones, ones, ones, ones]\n",
    "offsets_a = [0, -1, 1, -(m - 1), m - 1, m, -m, -(n - m), (n - m)]\n",
    "\n",
    "A1 = spdiags(diagonals_a, offsets_a, n, n).toarray() / dx**2\n",
    "\n",
    "# Construct derivative matrix A2 (x-derivative)\n",
    "diagonals_b = [ones, -ones, -ones, ones]\n",
    "offsets_b = [m, -m, n - m, -(n - m)]\n",
    "\n",
    "A2 = spdiags(diagonals_b, offsets_b, n, n).toarray() / (2 * dx)\n",
    "\n",
    "# Construct derivative matrix A3 (y-derivative)\n",
    "diagonals_c = [periodic_shift_m1_re, -periodic_shift_m1, -periodic_shift_p1, periodic_shift_p1_re]\n",
    "offsets_c = [-(m - 1), m - 1, -1, 1]\n",
    "\n",
    "A3 = spdiags(diagonals_c, offsets_c, n, n).toarray() / (2 * dx)"
   ]
  },
  {
   "cell_type": "code",
   "execution_count": 2,
   "id": "02c32f86-7283-49fc-8e01-1b4291ee775d",
   "metadata": {},
   "outputs": [
    {
     "data": {
      "text/plain": [
       "array([[-0.64,  0.16,  0.  , ...,  0.  ,  0.  ,  0.  ],\n",
       "       [ 0.16, -0.64,  0.16, ...,  0.  ,  0.  ,  0.  ],\n",
       "       [ 0.  ,  0.16, -0.64, ...,  0.  ,  0.  ,  0.  ],\n",
       "       ...,\n",
       "       [ 0.  ,  0.  ,  0.  , ..., -0.64,  0.16,  0.  ],\n",
       "       [ 0.  ,  0.  ,  0.  , ...,  0.16, -0.64,  0.16],\n",
       "       [ 0.  ,  0.  ,  0.  , ...,  0.  ,  0.16, -0.64]])"
      ]
     },
     "execution_count": 2,
     "metadata": {},
     "output_type": "execute_result"
    }
   ],
   "source": [
    "A1"
   ]
  },
  {
   "cell_type": "code",
   "execution_count": 3,
   "id": "4a362e90-ae17-4536-bc7a-242f079f2e03",
   "metadata": {},
   "outputs": [
    {
     "data": {
      "text/plain": [
       "array([[0., 0., 0., ..., 0., 0., 0.],\n",
       "       [0., 0., 0., ..., 0., 0., 0.],\n",
       "       [0., 0., 0., ..., 0., 0., 0.],\n",
       "       ...,\n",
       "       [0., 0., 0., ..., 0., 0., 0.],\n",
       "       [0., 0., 0., ..., 0., 0., 0.],\n",
       "       [0., 0., 0., ..., 0., 0., 0.]])"
      ]
     },
     "execution_count": 3,
     "metadata": {},
     "output_type": "execute_result"
    }
   ],
   "source": [
    "A2"
   ]
  },
  {
   "cell_type": "code",
   "execution_count": 4,
   "id": "bd810f75-6e0a-4909-8ae5-d29dc961f9d2",
   "metadata": {},
   "outputs": [
    {
     "data": {
      "text/plain": [
       "array([[ 0. ,  0.2,  0. , ...,  0. ,  0. ,  0. ],\n",
       "       [-0.2,  0. ,  0.2, ...,  0. ,  0. ,  0. ],\n",
       "       [ 0. , -0.2,  0. , ...,  0. ,  0. ,  0. ],\n",
       "       ...,\n",
       "       [ 0. ,  0. ,  0. , ...,  0. ,  0.2,  0. ],\n",
       "       [ 0. ,  0. ,  0. , ..., -0.2,  0. ,  0.2],\n",
       "       [ 0. ,  0. ,  0. , ...,  0. , -0.2,  0. ]])"
      ]
     },
     "execution_count": 4,
     "metadata": {},
     "output_type": "execute_result"
    }
   ],
   "source": [
    "A3"
   ]
  },
  {
   "cell_type": "code",
   "execution_count": null,
   "id": "66e6fe50-562d-4d72-b796-4a6ed5c1109e",
   "metadata": {},
   "outputs": [],
   "source": []
  }
 ],
 "metadata": {
  "kernelspec": {
   "display_name": "Python 3 (ipykernel)",
   "language": "python",
   "name": "python3"
  },
  "language_info": {
   "codemirror_mode": {
    "name": "ipython",
    "version": 3
   },
   "file_extension": ".py",
   "mimetype": "text/x-python",
   "name": "python",
   "nbconvert_exporter": "python",
   "pygments_lexer": "ipython3",
   "version": "3.9.13"
  }
 },
 "nbformat": 4,
 "nbformat_minor": 5
}
