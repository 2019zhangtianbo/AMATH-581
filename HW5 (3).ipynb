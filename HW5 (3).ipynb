{
 "cells": [
  {
   "cell_type": "code",
   "execution_count": 1,
   "id": "8c853078-89a4-471a-b764-c1297ceedc5e",
   "metadata": {},
   "outputs": [],
   "source": [
    "'''\n",
    "This is Homework 5 for AMATH 581\n",
    "Tianbo Zhang 1938501\n",
    "'''\n",
    "import numpy as np\n",
    "import matplotlib.pyplot as plt\n",
    "import time\n",
    "import random\n",
    "from scipy.fft import fft2, ifft2\n",
    "from scipy.integrate import solve_ivp\n",
    "from scipy.sparse import spdiags\n",
    "from scipy.linalg import lu, solve_triangular\n",
    "from scipy.sparse.linalg import bicgstab, gmres, spsolve"
   ]
  },
  {
   "cell_type": "code",
   "execution_count": 2,
   "id": "06550619-aa5b-436a-97d9-a9c788b1a01d",
   "metadata": {},
   "outputs": [],
   "source": [
    "\n",
    "# Parameters\n",
    "m = 64  # Grid size per dimension\n",
    "n = m * m  # Total number of grid points\n",
    "L = 10  # Domain size\n",
    "dx = (2 * L) / m  # Grid spacing\n",
    "\n",
    "# Base vectors for diagonals\n",
    "ones = np.ones(n)\n",
    "zeros = np.zeros(n)\n",
    "\n",
    "# Periodic wrap diagonals: farthest connections\n",
    "periodic_shift_m1 = np.zeros(n)\n",
    "periodic_shift_p1 = np.ones(n)\n",
    "periodic_shift_m1[m-1::m] = 1\n",
    "periodic_shift_p1[m-1::m] = 0\n",
    "periodic_shift_m1_re = np.concatenate((periodic_shift_m1[-1:], periodic_shift_m1[:-1]))\n",
    "periodic_shift_p1_re = np.concatenate((periodic_shift_p1[-1:], periodic_shift_p1[:-1]))\n",
    "\n",
    "\n",
    "# Construct derivative matrix A1 (Laplacian)\n",
    "diagonals_a = [-4 * ones, periodic_shift_p1, periodic_shift_p1_re, \n",
    "               periodic_shift_m1_re, periodic_shift_m1, \n",
    "               ones, ones, ones, ones]\n",
    "offsets_a = [0, -1, 1, -(m - 1), m - 1, m, -m, -(n - m), (n - m)]\n",
    "\n",
    "A = spdiags(diagonals_a, offsets_a, n, n).toarray() / dx**2\n",
    "A[0,0] = -4\n",
    "\n",
    "# Construct derivative matrix A2 (x-derivative)\n",
    "diagonals_b = [ones, -ones, -ones, ones]\n",
    "offsets_b = [m, -m, n - m, -(n - m)]\n",
    "\n",
    "B = spdiags(diagonals_b, offsets_b, n, n).toarray() / (2 * dx)\n",
    "\n",
    "# Construct derivative matrix A3 (y-derivative)\n",
    "diagonals_c = [periodic_shift_m1_re, -periodic_shift_m1, -periodic_shift_p1, periodic_shift_p1_re]\n",
    "offsets_c = [-(m - 1), m - 1, -1, 1]\n",
    "\n",
    "C = spdiags(diagonals_c, offsets_c, n, n).toarray() / (2 * dx)"
   ]
  },
  {
   "cell_type": "code",
   "execution_count": 3,
   "id": "7dfd409e-c836-47f6-9210-8f372d14e2ed",
   "metadata": {},
   "outputs": [],
   "source": [
    "# Set up initial conditions\n",
    "Lx = 20    # spatial domain of x\n",
    "Ly = 20    # spatial domain of y\n",
    "nx = 64   # number of discretization points in x\n",
    "ny = 64   # number of discretization points in y\n",
    "N = nx * ny   # elements in reshaped initial condition\n",
    "nu = 0.001\n",
    "tspan = np.arange(0, 4.5, 0.5)    # time span\n",
    "\n",
    "# Set up domains\n",
    "x2 = np.linspace(-Lx/2, Lx/2, nx+1) # x domain\n",
    "x = x2[:nx]   \n",
    "y2 = np.linspace(-Ly/2, Ly/2, ny+1) # y domain\n",
    "y = y2[:ny]  \n",
    "X, Y = np.meshgrid(x, y)  # make 2D\n",
    "\n",
    "# Set up Gaussian Elliptical initial condition\n",
    "w = 1 * np.exp(-X**2 - (Y**2)/20)\n",
    "w0 = w.reshape(N)"
   ]
  },
  {
   "cell_type": "code",
   "execution_count": 4,
   "id": "176f0f7a-0ffa-45dd-9b57-c8a6e431131d",
   "metadata": {},
   "outputs": [
    {
     "name": "stdout",
     "output_type": "stream",
     "text": [
      "Elapsed time (fft): 0.37 seconds\n"
     ]
    }
   ],
   "source": [
    "# Part (a): FFT method\n",
    "# Define spectral k values\n",
    "kx = (2 * np.pi / Lx) * np.concatenate((np.arange(0, nx/2), np.arange(-nx/2, 0)))\n",
    "kx[0] = 1e-6\n",
    "ky = (2 * np.pi / Ly) * np.concatenate((np.arange(0, ny/2), np.arange(-ny/2, 0)))\n",
    "ky[0] = 1e-6\n",
    "KX, KY = np.meshgrid(kx, ky)\n",
    "K = KX**2 + KY**2\n",
    "\n",
    "# FFT method\n",
    "def spc_rhs(t, w0, nx, ny, nu, A, B, C, K, N):\n",
    "    wt = fft2(w0.reshape(nx, ny))\n",
    "    phi_t = -wt / K\n",
    "    phi = np.real(ifft2(phi_t)).reshape(N)\n",
    "    rhs = nu * np.dot(A, w0) + np.dot(B, w0) * np.dot(C, phi) - np.dot(B, phi) * np.dot(C, w0)\n",
    "    return rhs\n",
    "\n",
    "start_time = time.time()\n",
    "sol_1 = solve_ivp(spc_rhs, [tspan[0], tspan[-1]], w0, t_eval = tspan, args = (nx, ny, nu, A, B, C, K, N), method = 'RK45')\n",
    "A1 = sol_1.y\n",
    "end_time = time.time()\n",
    "elapsed_time_fft = end_time - start_time\n",
    "print(f\"Elapsed time (fft): {elapsed_time_fft:.2f} seconds\")"
   ]
  },
  {
   "cell_type": "code",
   "execution_count": 5,
   "id": "f287b8ac-49bc-4a54-9a01-6eb466db4dfc",
   "metadata": {},
   "outputs": [
    {
     "name": "stderr",
     "output_type": "stream",
     "text": [
      "C:\\Users\\2019z\\AppData\\Local\\Temp\\ipykernel_25756\\1942364065.py:6: SparseEfficiencyWarning: spsolve requires A be CSC or CSR matrix format\n",
      "  phi = spsolve(A, w0)\n"
     ]
    },
    {
     "name": "stdout",
     "output_type": "stream",
     "text": [
      "Elapsed time (direct solve): 4.45 seconds\n"
     ]
    }
   ],
   "source": [
    "# Part (b)\n",
    "A[0,0] = 2\n",
    "\n",
    "# Direct solve method\n",
    "def direct_solve(t, w0, nu, A, B, C):\n",
    "    phi = spsolve(A, w0)\n",
    "    rhs = nu * np.dot(A, w0) + np.dot(B, w0) * np.dot(C, phi) - np.dot(B, phi) * np.dot(C, w0)\n",
    "    return rhs\n",
    "    \n",
    "start_time = time.time()\n",
    "sol_2 = solve_ivp(direct_solve, [tspan[0], tspan[-1]], w0, t_eval = tspan, args = (nu, A, B, C), method = 'RK45')\n",
    "A2 = sol_2.y\n",
    "end_time = time.time()\n",
    "elapsed_time_ds = end_time - start_time\n",
    "print(f\"Elapsed time (direct solve): {elapsed_time_ds:.2f} seconds\")"
   ]
  },
  {
   "cell_type": "code",
   "execution_count": 6,
   "id": "9362c93b-758b-4b2a-909f-95aadb3772a9",
   "metadata": {},
   "outputs": [
    {
     "name": "stdout",
     "output_type": "stream",
     "text": [
      "Elapsed time (LU decomposition): 1.08 seconds\n"
     ]
    }
   ],
   "source": [
    "# LU Decomposition\n",
    "# Get LU decomposition of A\n",
    "P, L, U = lu(A)\n",
    "def lu_solve(t, w0, nu, P, L, u):\n",
    "    Pb = np.dot(P, w0)\n",
    "    y = solve_triangular(L, Pb, lower=True)\n",
    "    phi = solve_triangular(U, y)\n",
    "    rhs = nu * np.dot(A, w0) + np.dot(B, w0) * np.dot(C, phi) - np.dot(B, phi) * np.dot(C, w0)\n",
    "    return rhs\n",
    "    \n",
    "start_time = time.time()\n",
    "sol_3 = solve_ivp(lu_solve, [tspan[0], tspan[-1]], w0, t_eval = tspan, args = (nu, P, L, U), method = 'RK45')\n",
    "A3 = sol_3.y\n",
    "end_time = time.time()\n",
    "elapsed_time_lu = end_time - start_time\n",
    "print(f\"Elapsed time (LU decomposition): {elapsed_time_lu:.2f} seconds\")"
   ]
  },
  {
   "cell_type": "code",
   "execution_count": 7,
   "id": "4cadcb87-655c-4a98-80ef-e823c4b07e72",
   "metadata": {},
   "outputs": [
    {
     "name": "stderr",
     "output_type": "stream",
     "text": [
      "C:\\Users\\2019z\\AppData\\Local\\Temp\\ipykernel_25756\\2501249209.py:3: DeprecationWarning: 'scipy.sparse.linalg.bicgstab' keyword argument `tol` is deprecated in favor of `rtol` and will be removed in SciPy v1.14.0. Until then, if set, it will override `rtol`.\n",
      "  phi, info = bicgstab(A, w0, tol=1e-6, maxiter=1000)\n"
     ]
    },
    {
     "name": "stdout",
     "output_type": "stream",
     "text": [
      "Elapsed time (BICGSTAB): 52.28 seconds\n"
     ]
    },
    {
     "name": "stderr",
     "output_type": "stream",
     "text": [
      "C:\\Users\\2019z\\AppData\\Local\\Temp\\ipykernel_25756\\2501249209.py:16: DeprecationWarning: 'scipy.sparse.linalg.gmres' keyword argument `tol` is deprecated in favor of `rtol` and will be removed in SciPy v1.14.0. Until then, if set, it will override `rtol`.\n",
      "  phi, info = gmres(A, w0, tol=1e-6, restart=50, maxiter=1000)\n"
     ]
    },
    {
     "name": "stdout",
     "output_type": "stream",
     "text": [
      "Elapsed time (GMRES): 65.29 seconds\n"
     ]
    }
   ],
   "source": [
    "# BICSTAB\n",
    "def stab_solve(t, w0, nu, A, B, C):\n",
    "    phi, info = bicgstab(A, w0, tol=1e-6, maxiter=1000)\n",
    "    rhs = nu * np.dot(A, w0) + np.dot(B, w0) * np.dot(C, phi) - np.dot(B, phi) * np.dot(C, w0)\n",
    "    return rhs\n",
    "\n",
    "start_time = time.time()\n",
    "sol_4 = solve_ivp(stab_solve, [tspan[0], tspan[-1]], w0, t_eval = tspan, args = (nu, A, B, C), method = 'RK45')\n",
    "A4 = sol_4.y\n",
    "end_time = time.time()\n",
    "elapsed_time_stab = end_time - start_time\n",
    "print(f\"Elapsed time (BICGSTAB): {elapsed_time_stab:.2f} seconds\")\n",
    "\n",
    "# GMRES\n",
    "def gmres_solve(t, w0, nu, A, B, C):\n",
    "    phi, info = gmres(A, w0, tol=1e-6, restart=50, maxiter=1000)\n",
    "    rhs = nu * np.dot(A, w0) + np.dot(B, w0) * np.dot(C, phi) - np.dot(B, phi) * np.dot(C, w0)\n",
    "    return rhs\n",
    "\n",
    "start_time = time.time()\n",
    "sol_5 = solve_ivp(gmres_solve, [tspan[0], tspan[-1]], w0, t_eval = tspan, args = (nu, A, B, C), method = 'RK45')\n",
    "A5 = sol_5.y\n",
    "end_time = time.time()\n",
    "elapsed_time_gmres = end_time - start_time\n",
    "print(f\"Elapsed time (GMRES): {elapsed_time_gmres:.2f} seconds\")"
   ]
  },
  {
   "cell_type": "code",
   "execution_count": 8,
   "id": "316c9f3a-967a-4df1-9571-e6681b2345c6",
   "metadata": {},
   "outputs": [
    {
     "name": "stdout",
     "output_type": "stream",
     "text": [
      "Elapsed time (opposite vorticies usiing fft): 0.35 seconds\n",
      "Elapsed time (next to each other vorticies usiing fft): 0.63 seconds\n",
      "Elapsed time (paired vorticies usiing fft): 0.33 seconds\n",
      "Elapsed time (random vorticies usiing fft): 2.37 seconds\n"
     ]
    }
   ],
   "source": [
    "# Part (c)\n",
    "# Two opposite charged vorticies:\n",
    "w_opposite = 1 * np.exp(-X**2 - (Y**2)/20) - 1 * np.exp(-(X-1)**2 - ((Y-2)**2)/20)\n",
    "w_opposite = w_opposite.reshape(N)\n",
    "\n",
    "# Same charged vorticies:\n",
    "w_same = 1 * np.exp(-X**2 - (Y**2)/20) + 1 * np.exp(-(X-1)**2 - ((Y-2)**2)/20)\n",
    "w_same = w_same.reshape(N)\n",
    "\n",
    "# Two pairs of opposite charged vorticies than can be made to collide\n",
    "w_pairs = 1 * np.exp(-X**2 - (Y**2)/20) - 1 * np.exp(-(X-1)**2 - ((Y-2)**2)/20) + 1 * np.exp(-X**2 - (Y**2)/20) - 1 * np.exp(-(X-1)**2 - ((Y-2)**2)/20)\n",
    "w_pairs = w_opposite.reshape(N)\n",
    "\n",
    "# Random assortment of vorticies\n",
    "w_rand = 1 * np.exp(-X**2 - (Y**2)/20)\n",
    "for i in range (10):\n",
    "    rand_strength = random.random()\n",
    "    rand_x = random.random()\n",
    "    rand_y = random.random()\n",
    "    w_rand += rand_strength * np.exp(-(X + rand_x)**2 - ((Y + rand_y)**2)/20)\n",
    "w_rand = w_rand.reshape(N)\n",
    "\n",
    "def spc_rhs(t, w0, nx, ny, nu, A, B, C, K, N):\n",
    "    wt = fft2(w0.reshape(nx, ny))\n",
    "    phi_t = -wt / K\n",
    "    phi = np.real(ifft2(phi_t)).reshape(N)\n",
    "    rhs = nu * np.dot(A, w0) + np.dot(B, w0) * np.dot(C, phi) - np.dot(B, phi) * np.dot(C, w0)\n",
    "    return rhs\n",
    "\n",
    "start_time = time.time()\n",
    "sol_opposite = solve_ivp(spc_rhs, [tspan[0], tspan[-1]], w_opposite, t_eval = tspan, args = (nx, ny, nu, A, B, C, K, N), method = 'RK45')\n",
    "end_time = time.time()\n",
    "elapsed_time_op = end_time - start_time\n",
    "print(f\"Elapsed time (opposite vorticies usiing fft): {elapsed_time_op:.2f} seconds\")\n",
    "\n",
    "start_time = time.time()\n",
    "sol_same = solve_ivp(spc_rhs, [tspan[0], tspan[-1]], w_same, t_eval = tspan, args = (nx, ny, nu, A, B, C, K, N), method = 'RK45')\n",
    "end_time = time.time()\n",
    "elapsed_time_sa = end_time - start_time\n",
    "print(f\"Elapsed time (next to each other vorticies usiing fft): {elapsed_time_sa:.2f} seconds\")\n",
    "\n",
    "start_time = time.time()\n",
    "sol_pairs = solve_ivp(spc_rhs, [tspan[0], tspan[-1]], w_pairs, t_eval = tspan, args = (nx, ny, nu, A, B, C, K, N), method = 'RK45')\n",
    "end_time = time.time()\n",
    "elapsed_time_pa = end_time - start_time\n",
    "print(f\"Elapsed time (paired vorticies usiing fft): {elapsed_time_pa:.2f} seconds\")\n",
    "\n",
    "start_time = time.time()\n",
    "sol_rand = solve_ivp(spc_rhs, [tspan[0], tspan[-1]], w_rand, t_eval = tspan, args = (nx, ny, nu, A, B, C, K, N), method = 'RK45')\n",
    "end_time = time.time()\n",
    "elapsed_time_rand = end_time - start_time\n",
    "print(f\"Elapsed time (random vorticies usiing fft): {elapsed_time_rand:.2f} seconds\")"
   ]
  },
  {
   "cell_type": "code",
   "execution_count": 9,
   "id": "f71f5965-1ab6-473f-b9cb-49f881797c27",
   "metadata": {},
   "outputs": [],
   "source": [
    "# Part (d)\n",
    "\n"
   ]
  },
  {
   "cell_type": "code",
   "execution_count": null,
   "id": "735349fb-d951-406c-883c-a1bf9eb3b3e4",
   "metadata": {},
   "outputs": [],
   "source": []
  }
 ],
 "metadata": {
  "kernelspec": {
   "display_name": "Python 3 (ipykernel)",
   "language": "python",
   "name": "python3"
  },
  "language_info": {
   "codemirror_mode": {
    "name": "ipython",
    "version": 3
   },
   "file_extension": ".py",
   "mimetype": "text/x-python",
   "name": "python",
   "nbconvert_exporter": "python",
   "pygments_lexer": "ipython3",
   "version": "3.9.13"
  }
 },
 "nbformat": 4,
 "nbformat_minor": 5
}
